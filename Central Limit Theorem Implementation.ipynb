{
 "cells": [
  {
   "cell_type": "markdown",
   "metadata": {},
   "source": [
    "### Implementation of Central Limit Theorem"
   ]
  },
  {
   "cell_type": "markdown",
   "metadata": {},
   "source": [
    "#### here I am planning to take 1000 samples of coin flips 1/0 \n",
    "#### and I will calculate the mean of each of 1000 samples of the coin flips taken and let's plot the mean of all the 1000 samples and check what will the output graph look like"
   ]
  },
  {
   "cell_type": "code",
   "execution_count": 1,
   "metadata": {
    "collapsed": true
   },
   "outputs": [],
   "source": [
    "import random\n",
    "from math import sqrt\n",
    "import matplotlib.pyplot as plt"
   ]
  },
  {
   "cell_type": "markdown",
   "metadata": {},
   "source": [
    "#### Let's now take create functions for mean, variance and standard deviation"
   ]
  },
  {
   "cell_type": "code",
   "execution_count": 2,
   "metadata": {
    "collapsed": true
   },
   "outputs": [],
   "source": [
    "def mean(dataList):\n",
    "    '''takes in a list and returns the mean of the data'''\n",
    "    return float(sum(dataList)/len(dataList))\n",
    "\n",
    "def variance(dataList):\n",
    "    '''takes in a list and returns the variance'''\n",
    "    meanData=mean(dataList)\n",
    "    variance=float(sum([(x-meanData)**2 for x in dataList])/len(dataList))\n",
    "    return variance\n",
    "    \n",
    "def stdDev(variance):\n",
    "    '''takes in a number and returns sqrt of variance\n",
    "    Can be used to calculate standart deviation of a distribution by passing it's variance'''\n",
    "    return sqrt(variance)"
   ]
  },
  {
   "cell_type": "markdown",
   "metadata": {},
   "source": [
    "#### now we can start with a function which can create samples for the no of observations we want the data for. Here considering that the coin in fair, so we can use random distribution to calculate the 0 and 1"
   ]
  },
  {
   "cell_type": "code",
   "execution_count": 3,
   "metadata": {
    "collapsed": true
   },
   "outputs": [],
   "source": [
    "def CoinFlip(numberofsamples):\n",
    "    '''Inputs an integer n and returns a list of n no. of random True and False'''\n",
    "    N= numberofsamples\n",
    "\n",
    "#using for loop\n",
    "    #N_samples=[]\n",
    "    #for i in range(N):\n",
    "    #    N_samples.append(random.random()>0.5)\n",
    "\n",
    "#USING LIST COMPREHENSION\n",
    "    N_samples=[random.random()>0.5 for i in range(N)]\n",
    "    return N_samples"
   ]
  },
  {
   "cell_type": "markdown",
   "metadata": {},
   "source": [
    "##### creating a function that gives sample for N no of Coinflips \n",
    "We can assume the event when tails occur as 0\n",
    "and the event when heads occus as 1\n",
    "we can implement these occurances using random.random() which return continuous values  between 0 and 1\n",
    "adding a random 0 or 1 depending upon the comparison\n",
    "0, i.e., tails when random() returns values less than or equal to 0.5 and 1, i.e., Heads otherwise\n",
    "## False/0 --> Tails\n",
    "## True/1--> Heads\n",
    "and for one iteration either heads or tails gets attached to the end of the list"
   ]
  },
  {
   "cell_type": "code",
   "execution_count": 4,
   "metadata": {
    "collapsed": true
   },
   "outputs": [],
   "source": [
    "#no of heads? and no of tails\n",
    "def Counts():\n",
    "    '''returns counts of heads and tails respectively'''\n",
    "    nHeads=0\n",
    "    nTails=0\n",
    "    for i in samplesList:\n",
    "        if i==True:\n",
    "            nHeads+=1\n",
    "        if i==False:\n",
    "            nTails+=1 \n",
    "    #print ('no of Heads = %d, no of Tails = %d' % (nHeads,nTails))\n",
    "    return nHeads,nTails"
   ]
  },
  {
   "cell_type": "code",
   "execution_count": 6,
   "metadata": {},
   "outputs": [
    {
     "name": "stdout",
     "output_type": "stream",
     "text": [
      "0.5\n",
      "0.25\n"
     ]
    }
   ],
   "source": [
    "#alternatively\n",
    "numofsamples=1000\n",
    "#time to collect samples\n",
    "samplesList=CoinFlip(numofsamples)\n",
    "\n",
    "print(mean(samplesList))\n",
    "print(variance(samplesList))"
   ]
  },
  {
   "cell_type": "code",
   "execution_count": 7,
   "metadata": {},
   "outputs": [
    {
     "name": "stdout",
     "output_type": "stream",
     "text": [
      "500 500\n"
     ]
    }
   ],
   "source": [
    "a,b=Counts()\n",
    "print(a,b)"
   ]
  },
  {
   "cell_type": "markdown",
   "metadata": {},
   "source": [
    "### Now Taking 1000 means of 1000 coinFlips each\n",
    "Lets create a new list called MeansOf1000Samples\n",
    "## Algorithm\n",
    "\n",
    "for i in 1000:\n",
    "\n",
    "    a= CoinFlips() 1000\n",
    "    calculate mean(a)"
   ]
  },
  {
   "cell_type": "code",
   "execution_count": 8,
   "metadata": {
    "collapsed": true
   },
   "outputs": [],
   "source": [
    "def MeanPer1000Samples(num):\n",
    "    mean1000list = [mean(CoinFlip(num)) for x in range(num)]\n",
    "    return mean1000list"
   ]
  },
  {
   "cell_type": "markdown",
   "metadata": {},
   "source": [
    "### plotting the histogram for 50000 means of 50000 observations each"
   ]
  },
  {
   "cell_type": "code",
   "execution_count": 11,
   "metadata": {},
   "outputs": [
    {
     "data": {
      "image/png": "[encoded data removed]",
      "text/plain": [
       "<matplotlib.figure.Figure at 0x2814f76bcc0>"
      ]
     },
     "metadata": {},
     "output_type": "display_data"
    }
   ],
   "source": [
    "a=MeanPer1000Samples(50000)\n",
    "plt.hist(a,bins=30)\n",
    "plt.show()"
   ]
  },
  {
   "cell_type": "markdown",
   "metadata": {},
   "source": [
    "## the higher the no. of observations and the outcomes, the steeper the curve! See the difference between 50000, 1000, 5000, 10000, 20000"
   ]
  },
  {
   "cell_type": "markdown",
   "metadata": {
    "collapsed": true
   },
   "source": [
    "## plotting the histogram for 1000 means of 1000 observations each"
   ]
  },
  {
   "cell_type": "code",
   "execution_count": 12,
   "metadata": {},
   "outputs": [
    {
     "data": {
      "image/png": "[encoded data removed]",
      "text/plain": [
       "<matplotlib.figure.Figure at 0x2814f902ef0>"
      ]
     },
     "metadata": {},
     "output_type": "display_data"
    }
   ],
   "source": [
    "a=MeanPer1000Samples(1000)\n",
    "plt.hist(a,bins=30)\n",
    "plt.show()"
   ]
  },
  {
   "cell_type": "markdown",
   "metadata": {},
   "source": [
    "## Plotting for 5000"
   ]
  },
  {
   "cell_type": "code",
   "execution_count": 13,
   "metadata": {},
   "outputs": [
    {
     "data": {
      "image/png": "[encoded data removed]",
      "text/plain": [
       "<matplotlib.figure.Figure at 0x2814f698fd0>"
      ]
     },
     "metadata": {},
     "output_type": "display_data"
    }
   ],
   "source": [
    "a=MeanPer1000Samples(5000)\n",
    "plt.hist(a,bins=30)\n",
    "plt.show()"
   ]
  },
  {
   "cell_type": "markdown",
   "metadata": {},
   "source": [
    "## Plotting for 10000"
   ]
  },
  {
   "cell_type": "code",
   "execution_count": 14,
   "metadata": {},
   "outputs": [
    {
     "data": {
      "image/png": "[encoded data removed]",
      "text/plain": [
       "<matplotlib.figure.Figure at 0x2814f698198>"
      ]
     },
     "metadata": {},
     "output_type": "display_data"
    }
   ],
   "source": [
    "a=MeanPer1000Samples(10000)\n",
    "plt.hist(a,bins=30)\n",
    "plt.show()"
   ]
  },
  {
   "cell_type": "markdown",
   "metadata": {},
   "source": [
    "## Plotting for 20000"
   ]
  },
  {
   "cell_type": "code",
   "execution_count": 15,
   "metadata": {},
   "outputs": [
    {
     "data": {
      "image/png": "[encoded data removed]",
      "text/plain": [
       "<matplotlib.figure.Figure at 0x2814f8f0b70>"
      ]
     },
     "metadata": {},
     "output_type": "display_data"
    }
   ],
   "source": [
    "a=MeanPer1000Samples(20000)\n",
    "plt.hist(a,bins=30)\n",
    "plt.show()"
   ]
  },
  {
   "cell_type": "markdown",
   "metadata": {},
   "source": [
    "# Conclusion\n",
    "\n",
    "I like this theorem. "
   ]
  }
 ],
 "metadata": {
  "kernelspec": {
   "display_name": "Python 3",
   "language": "python",
   "name": "python3"
  },
  "language_info": {
   "codemirror_mode": {
    "name": "ipython",
    "version": 3
   },
   "file_extension": ".py",
   "mimetype": "text/x-python",
   "name": "python",
   "nbconvert_exporter": "python",
   "pygments_lexer": "ipython3",
   "version": "3.6.2"
  }
 },
 "nbformat": 4,
 "nbformat_minor": 2
}
